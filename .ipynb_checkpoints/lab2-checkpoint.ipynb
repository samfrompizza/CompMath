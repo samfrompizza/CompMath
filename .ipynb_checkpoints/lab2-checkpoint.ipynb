{
 "cells": [
  {
   "cell_type": "markdown",
   "id": "8cd409d5-38a6-49bb-9353-655c8fde508c",
   "metadata": {},
   "source": [
    "# **Лабораторная работа №2 по вычислительной математикe.**\n",
    "\n",
    "## Работу выполнил: Аль Мажариш Гасем, Б01 - 202а."
   ]
  },
  {
   "cell_type": "code",
   "execution_count": 94,
   "id": "4e5c2ed0-1223-470f-bbfe-996794e9cae0",
   "metadata": {},
   "outputs": [],
   "source": [
    "import numpy as np"
   ]
  },
  {
   "cell_type": "markdown",
   "id": "d622dc78-d694-458c-a09d-e57f1702407d",
   "metadata": {},
   "source": [
    "## Формулировка задачи\n",
    "\n",
    "Решить уравнение \n",
    "\n",
    "$(x - 1)^3 = 3$\n",
    "\n",
    "* Методом простых итераций\n",
    "* Методом Ньютона"
   ]
  },
  {
   "cell_type": "markdown",
   "id": "3da33f7b-b101-4b0c-b222-a271aa4a0773",
   "metadata": {},
   "source": [
    "## Параметры"
   ]
  },
  {
   "cell_type": "code",
   "execution_count": 166,
   "id": "af4ef921-98cb-4e23-914b-c92c29953982",
   "metadata": {},
   "outputs": [],
   "source": [
    "TOLERANCE = 1e-9\n",
    "MAX_ITER = 100"
   ]
  },
  {
   "cell_type": "markdown",
   "id": "cc9dcfc1-aaf7-48e5-a89b-0bf0c59d0f33",
   "metadata": {},
   "source": [
    "## Метод простых итераций"
   ]
  },
  {
   "cell_type": "code",
   "execution_count": 96,
   "id": "91afc845-6191-4136-ba9b-fd1d752b9a93",
   "metadata": {},
   "outputs": [],
   "source": [
    "def simple_iteration_method(initial_guess, tol, max_iter):\n",
    "    x = initial_guess\n",
    "    \n",
    "    for i in range(max_iter):\n",
    "        x_new = np.cbrt(3) + 1\n",
    "        \n",
    "        if abs(x_new - x) < tol:\n",
    "            return x_new, i+1\n",
    "            \n",
    "        x = x_new\n",
    "    return x, max_iter"
   ]
  },
  {
   "cell_type": "markdown",
   "id": "66cc51b9-04ef-4cae-9c52-57214daf74ec",
   "metadata": {},
   "source": [
    "## Метод Ньютона"
   ]
  },
  {
   "cell_type": "code",
   "execution_count": 97,
   "id": "34c8a286-fca8-499e-bb60-05200d0878be",
   "metadata": {},
   "outputs": [],
   "source": [
    "def newton_method(initial_guess, tol, max_iter):\n",
    "    x = initial_guess\n",
    "    \n",
    "    for i in range(max_iter):\n",
    "        f_x = (x - 1)**3 - 3\n",
    "        f_prime_x = 3 * (x - 1)**2\n",
    "        \n",
    "        if f_prime_x == 0:\n",
    "            return None, i+1  # Производная не должна быть равна нулю\n",
    "            \n",
    "        x_new = x - f_x / f_prime_x\n",
    "        if abs(x_new - x) < tol:\n",
    "            return x_new, i+1\n",
    "        x = x_new\n",
    "        \n",
    "    return x, max_iter"
   ]
  },
  {
   "cell_type": "markdown",
   "id": "292343c2-5474-4739-bc1c-c77b23965562",
   "metadata": {},
   "source": [
    "## Тестирование решения"
   ]
  },
  {
   "cell_type": "code",
   "execution_count": 167,
   "id": "47ec13e7-71f5-4fdf-b647-fb08a44e62f9",
   "metadata": {},
   "outputs": [
    {
     "name": "stdout",
     "output_type": "stream",
     "text": [
      "Метод простых итераций: корень = 2.4422495703074083, количество итераций = 2\n",
      "Метод Ньютона: корень = 2.4422495703074083, количество итераций = 6\n"
     ]
    }
   ],
   "source": [
    "initial_guess = 2\n",
    "\n",
    "simple_iter_solution, simple_iter_steps = simple_iteration_method(initial_guess, TOLERANCE, MAX_ITER)\n",
    "newton_solution, newton_steps = newton_method(initial_guess, TOLERANCE, MAX_ITER)\n",
    "\n",
    "print(f\"Метод простых итераций: корень = {simple_iter_solution}, количество итераций = {simple_iter_steps}\")\n",
    "print(f\"Метод Ньютона: корень = {newton_solution}, количество итераций = {newton_steps}\")"
   ]
  },
  {
   "cell_type": "markdown",
   "id": "14a733c1-7d58-4539-a9f7-d6c6ffc235e9",
   "metadata": {},
   "source": [
    "## Решение системы нелинейных уравнений\n",
    "\n",
    "$x_1 = cos(x_2) + 2$\n",
    "\n",
    "$x_2 = sin(x_3) + 3$\n",
    "\n",
    "$x_3 = \\dfrac{x_1}{2}$"
   ]
  },
  {
   "cell_type": "code",
   "execution_count": 164,
   "id": "0b1c2e0b-4217-4481-9075-f99eb6b5fe1b",
   "metadata": {},
   "outputs": [],
   "source": [
    "def system_solution(x, tol, max_iter):\n",
    "    x_new = x.copy()\n",
    "    greater = True\n",
    "    iters = 0\n",
    "    \n",
    "    while greater:\n",
    "        iters += 1\n",
    "        \n",
    "        x_new[0] = float(np.cos(x[1]) + 2)\n",
    "        x_new[1] = float(np.sin(x[2]) + 3)\n",
    "        x_new[2] = float(x[0] / 2)\n",
    "\n",
    "        greater = np.linalg.norm(np.array(x_new) - np.array(x)) > tol\n",
    "        if iters > max_iter:\n",
    "            greater = False\n",
    "            \n",
    "        x = x_new.copy()\n",
    "    return x_new, iters"
   ]
  },
  {
   "cell_type": "code",
   "execution_count": 165,
   "id": "8f3f2aca-c223-432a-b422-59af5f1b27a1",
   "metadata": {},
   "outputs": [
    {
     "name": "stdout",
     "output_type": "stream",
     "text": [
      "Решение системы: корень = [1.066499421117447, 3.508334540099868, 0.5332497103903824], количество итераций = 37\n"
     ]
    }
   ],
   "source": [
    "system_guess = [1, 1, 1]\n",
    "\n",
    "system_solution, system_steps = system_solution(system_guess, TOLERANCE, MAX_ITER)\n",
    "\n",
    "print(f\"Решение системы: корень = {system_solution}, количество итераций = {system_steps}\")"
   ]
  }
 ],
 "metadata": {
  "kernelspec": {
   "display_name": "Python 3 (ipykernel)",
   "language": "python",
   "name": "python3"
  },
  "language_info": {
   "codemirror_mode": {
    "name": "ipython",
    "version": 3
   },
   "file_extension": ".py",
   "mimetype": "text/x-python",
   "name": "python",
   "nbconvert_exporter": "python",
   "pygments_lexer": "ipython3",
   "version": "3.10.12"
  }
 },
 "nbformat": 4,
 "nbformat_minor": 5
}
