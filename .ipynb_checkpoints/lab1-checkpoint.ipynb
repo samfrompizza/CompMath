{
 "cells": [
  {
   "cell_type": "markdown",
   "id": "50924820-5f92-4068-9145-9322a19c71ea",
   "metadata": {},
   "source": [
    "# **Лабораторная работа №1 по вычислительной математикe.**\n",
    "\n",
    "## Работу выполнил: Аль Мажариш Гасем, Б01 - 202а.\n"
   ]
  },
  {
   "cell_type": "code",
   "execution_count": 115,
   "id": "1273bf6d-f20f-4391-a06b-357c2a76a8b7",
   "metadata": {},
   "outputs": [],
   "source": [
    "import numpy as np"
   ]
  },
  {
   "cell_type": "markdown",
   "id": "6af05b79-cf31-47f9-99a0-6bfba4fd465a",
   "metadata": {},
   "source": [
    "## Формулировка задачи\n",
    "\n",
    "II.10.2 Сделать по 5 итераций методов Якоби, Зейделя и градиентного спуска для системы:\n",
    "\n",
    "$4 x_1 + x_2 = 15$\n",
    "\n",
    "$x_1 + 4 x_2 + x_3 = 15$\n",
    "\n",
    "$3 x_2 + 3 x_3 = 10$"
   ]
  },
  {
   "cell_type": "markdown",
   "id": "43a0aa5b-f095-4dcb-9ecf-3b85589afcff",
   "metadata": {},
   "source": [
    "## Определение размера СЛАУ и допустимой погрешности."
   ]
  },
  {
   "cell_type": "code",
   "execution_count": 116,
   "id": "7c1c7b29-cd15-464e-b661-24bbb348cf5c",
   "metadata": {},
   "outputs": [],
   "source": [
    "SIZE = 3\n",
    "TOL = 1e-5\n",
    "MAX_ITERATIONS = 5"
   ]
  },
  {
   "cell_type": "markdown",
   "id": "f9878055-9060-41f3-b5bb-f2b06c6da90c",
   "metadata": {},
   "source": [
    "## Определение функций расчета нормы $\\|x\\|_i$ вектора."
   ]
  },
  {
   "cell_type": "code",
   "execution_count": 117,
   "id": "a3c305ed-70a0-4b70-9e55-c6cbc04cf347",
   "metadata": {},
   "outputs": [],
   "source": [
    "def cube_vec_norm(vec):\n",
    "    return max(abs(vec))\n",
    "    \n",
    "def oct_vec_norm(vec):\n",
    "    return abs(max(vec))\n",
    "\n",
    "def evk_vec_norm(vec):\n",
    "    return np.sqrt(sum(vec * vec))\n",
    "\n",
    "vec_norm_list = [cube_vec_norm, oct_vec_norm, evk_vec_norm]"
   ]
  },
  {
   "cell_type": "markdown",
   "id": "eab9362c-a1de-4012-ba1b-2ae8c5ed990a",
   "metadata": {},
   "source": [
    "## Метод диагональной прогонки\n",
    "Этот метод применяется к СЛАУ, где матрица коэффициентов является трехдиагональной."
   ]
  },
  {
   "cell_type": "code",
   "execution_count": 118,
   "id": "5e6d5564-584b-4527-b989-af39c909347e",
   "metadata": {},
   "outputs": [],
   "source": [
    "def tridiagonal_arg(A):\n",
    "    size = len(A[0])\n",
    "    a = np.zeros(size - 1)\n",
    "    b = np.zeros(size)\n",
    "    c = np.zeros(size - 1)\n",
    "    \n",
    "    for i in range(size - 1):\n",
    "        a[i] = A[i + 1][i]\n",
    "        b[i] = A[i][i]\n",
    "        c[i] = A[i][i + 1]\n",
    "\n",
    "    b[size - 1] = A[size - 1][size - 1]\n",
    "\n",
    "    return a, b, c\n",
    "                \n",
    "\n",
    "def tridiagonal_solver(a, b, c, d):\n",
    "    n = len(d)\n",
    "    P = np.zeros(n - 1)\n",
    "    Q = np.zeros(n)\n",
    "    \n",
    "    # Задаём прогоночные коэффициенты\n",
    "    P[0] = -c[0] / b[0]\n",
    "    Q[0] = d[0] / b[0]\n",
    "\n",
    "    # Прямой ход\n",
    "    for i in range(1, n - 1):\n",
    "        denominator = b[i] + a[i - 1] * P[i - 1]\n",
    "        P[i] = -c[i] / denominator\n",
    "        Q[i] = (d[i] - a[i - 1] * Q[i - 1]) / denominator\n",
    "    \n",
    "    Q[n - 1] = (d[n - 1] - a[n - 2] * Q[n - 2]) / (b[n - 1] + a[n - 2] * P[n - 2])\n",
    "\n",
    "    # Обратный ход\n",
    "    x = np.zeros(n)\n",
    "    x[n - 1] = Q[n - 1]\n",
    "    \n",
    "    for i in range(n - 2, -1, -1):\n",
    "        x[i] = P[i] * x[i + 1] + Q[i]\n",
    "    \n",
    "    return x"
   ]
  },
  {
   "cell_type": "markdown",
   "id": "57f0142f-2e7f-4e80-a647-7d02bc99d842",
   "metadata": {},
   "source": [
    "## Инициализация матрицы СЛАУ"
   ]
  },
  {
   "cell_type": "code",
   "execution_count": 119,
   "id": "6f22d3cb-f1d6-4a4c-a0ca-c1fcdafd10ff",
   "metadata": {},
   "outputs": [],
   "source": [
    "A = np.array([[4, 1, 0], [1, 4, 1], [0, 1, 3]], dtype=float)\n",
    "b = np.array([15, 15, 10], dtype=float)\n",
    "x0 = np.zeros_like(b)"
   ]
  },
  {
   "cell_type": "markdown",
   "id": "2c01433c-b829-4be3-9630-f83eb1711778",
   "metadata": {},
   "source": [
    "## Метод Якоби\n",
    "Метод предполагает разбиение матрицы на LDU - Lower, Diagonale, Upper"
   ]
  },
  {
   "cell_type": "code",
   "execution_count": 120,
   "id": "957c6485-b2eb-41ba-af12-6cad4f5a9c16",
   "metadata": {},
   "outputs": [],
   "source": [
    "def jacobi_method(A, b, x0, tol=TOL, max_iterations=MAX_ITERATIONS):\n",
    "    # Инициализируем\n",
    "    n = len(A)\n",
    "    x = x0.copy()\n",
    "    x_new = np.zeros_like(x)\n",
    "\n",
    "    # Итерируем\n",
    "    for it_count in range(max_iterations):\n",
    "        for i in range(n):\n",
    "            s = sum(A[i][j] * x[j] for j in range(n) if j != i)\n",
    "            x_new[i] = (b[i] - s) / A[i][i]\n",
    "        \n",
    "        if evk_vec_norm(x_new - x) < tol:\n",
    "            return x_new, it_count\n",
    "        x = x_new.copy()\n",
    "\n",
    "    return x_new, max_iterations"
   ]
  },
  {
   "cell_type": "markdown",
   "id": "5b770a60-1331-4f6e-a6b7-dc5184fece98",
   "metadata": {},
   "source": [
    "## Метод Зейделя\n",
    "Метод Зейделя — это модификация метода Якоби, где на каждой итерации сразу используется обновленное значение."
   ]
  },
  {
   "cell_type": "code",
   "execution_count": 121,
   "id": "ea3f2758-3905-46d9-b9ea-b2069e323d8a",
   "metadata": {},
   "outputs": [],
   "source": [
    "def gauss_seidel_method(A, b, x0, tol=TOL, max_iterations=MAX_ITERATIONS):\n",
    "    # Инициализируем\n",
    "    n = len(A)\n",
    "    x = x0\n",
    "\n",
    "    # Итерируем\n",
    "    for it_count in range(max_iterations):\n",
    "        x_new = x.copy()\n",
    "        for i in range(n):\n",
    "            s1 = sum(A[i][j] * x_new[j] for j in range(i))\n",
    "            s2 = sum(A[i][j] * x[j] for j in range(i + 1, n))\n",
    "            x_new[i] = (b[i] - s1 - s2) / A[i][i]\n",
    "        \n",
    "        if evk_vec_norm(x_new - x) < tol:\n",
    "            return x_new, it_count\n",
    "        x = x_new\n",
    "\n",
    "    return x_new, max_iterations"
   ]
  },
  {
   "cell_type": "markdown",
   "id": "b98dc08a-a1c9-487e-b6ac-d774547df526",
   "metadata": {},
   "source": [
    "## Вариационный метод\n",
    "Вариационный метод решения СЛАУ основан на минимизации функционала, связанного с матрицей системы и правой частью."
   ]
  },
  {
   "cell_type": "code",
   "execution_count": 125,
   "id": "33ffed06-f5ef-4903-80d2-25003650ef82",
   "metadata": {},
   "outputs": [],
   "source": [
    "def variational_method(A, b, x0, tol=TOL, max_iterations=MAX_ITERATIONS):\n",
    "    x = x0\n",
    "    r = b - A @ x\n",
    "    p = r\n",
    "\n",
    "    for it_count in range(max_iterations):\n",
    "        alpha = (r @ r) / (p @ A @ p)    # Шаг спуска\n",
    "        x_new = x + alpha * p            # Обновление решения\n",
    "        r_new = r - alpha * A @ p        # Обновление невязки\n",
    "        \n",
    "        if evk_vec_norm(r_new) < tol:\n",
    "            return x_new, it_count\n",
    "\n",
    "        # Обновление направления поиска\n",
    "        beta = (r_new @ r_new) / (r @ r)\n",
    "        p = r_new + beta * p\n",
    "        r = r_new\n",
    "        x = x_new\n",
    "\n",
    "    return x_new, max_iterations"
   ]
  },
  {
   "cell_type": "code",
   "execution_count": 126,
   "id": "b2e5a1fa-f398-452b-8fb8-f5dee265e223",
   "metadata": {},
   "outputs": [
    {
     "name": "stdout",
     "output_type": "stream",
     "text": [
      "Решение методом прогонки: [3.17073171 2.31707317 2.56097561]\n",
      "Решение методом Якоби: [3.18305122 2.34754774 2.57740162] Кол-во итераций: 5\n",
      "Решение методом Зейделя: [3.17034757 2.31729725 2.56090092] Кол-во итераций: 5\n",
      "Решение вариационным методом: [3.17073171 2.31707317 2.56097561] Кол-во итераций: 2\n"
     ]
    }
   ],
   "source": [
    "x_jacobi, it_jacobi = jacobi_method(A, b, x0)\n",
    "x_seidel, it_seidel = gauss_seidel_method(A, b, x0)\n",
    "x_tridiagonal = tridiagonal_solver(*tridiagonal_arg(A), b)\n",
    "x_variational, it_variational = variational_method(A, b, x0)\n",
    "\n",
    "print(\"Решение методом прогонки:\", x_tridiagonal)\n",
    "print(\"Решение методом Якоби:\", x_jacobi, \"Кол-во итераций:\", it_jacobi)\n",
    "print(\"Решение методом Зейделя:\", x_seidel, \"Кол-во итераций:\", it_seidel)\n",
    "print(\"Решение вариационным методом:\", x_variational, \"Кол-во итераций:\", it_variational)"
   ]
  },
  {
   "cell_type": "markdown",
   "id": "bafd654f-0734-4e4e-b947-9e3c22828264",
   "metadata": {},
   "source": [
    "## Выводы\n",
    "Ответы, полученные разными методами, близки друг к другу, что свидетельствует их правильной реализации.\n",
    "Наилучшую точность демонстрирует метод градиентного спуска. Также видно, что при огромной схожести метод Зейделя превосходит метод Якоби."
   ]
  }
 ],
 "metadata": {
  "kernelspec": {
   "display_name": "Python 3 (ipykernel)",
   "language": "python",
   "name": "python3"
  },
  "language_info": {
   "codemirror_mode": {
    "name": "ipython",
    "version": 3
   },
   "file_extension": ".py",
   "mimetype": "text/x-python",
   "name": "python",
   "nbconvert_exporter": "python",
   "pygments_lexer": "ipython3",
   "version": "3.10.12"
  }
 },
 "nbformat": 4,
 "nbformat_minor": 5
}
